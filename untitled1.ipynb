{
  "nbformat": 4,
  "nbformat_minor": 0,
  "metadata": {
    "colab": {
      "provenance": [],
      "include_colab_link": true
    },
    "kernelspec": {
      "name": "python3",
      "display_name": "Python 3"
    },
    "language_info": {
      "name": "python"
    }
  },
  "cells": [
    {
      "cell_type": "markdown",
      "metadata": {
        "id": "view-in-github",
        "colab_type": "text"
      },
      "source": [
        "<a href=\"https://colab.research.google.com/github/rashikas547/python_assingnment/blob/main/untitled1.ipynb\" target=\"_parent\"><img src=\"https://colab.research.google.com/assets/colab-badge.svg\" alt=\"Open In Colab\"/></a>"
      ]
    },
    {
      "cell_type": "markdown",
      "source": [
        "**Q.1.Explain the key features of Python that makes it a popular choicve for programming**"
      ],
      "metadata": {
        "id": "UKgm65pUSNye"
      }
    },
    {
      "cell_type": "markdown",
      "source": [
        "1. Python is simple & easy to understand programming language.\n",
        "2. High-Level Language.\n",
        "3. Interpreted Language.\n",
        "4. Dynamically Typed Language.\n",
        "5. GUI Programming Support\n",
        "6. Widely used in Industry.\n",
        "7. Object-Oriented Programming Language\n",
        "8. Large Standard Library Support\n",
        "9. Dynamic Memory Allocation\n",
        "10. Database Support\n",
        "\n",
        "\n",
        "\n",
        "\n",
        "\n",
        "\n",
        "\n",
        "\n",
        "\n",
        "\n",
        "\n",
        "\n"
      ],
      "metadata": {
        "id": "mqHy-e0-WzGC"
      }
    },
    {
      "cell_type": "markdown",
      "source": [
        "**Q.2.Describe the role of predefined keywords in Python and provide examples of how they are used in a program bold text**"
      ],
      "metadata": {
        "id": "26AO5zCFYjJi"
      }
    },
    {
      "cell_type": "markdown",
      "source": [
        "Keywords in Python are reserved words that can not be used as a variable name, function name, or any other identifier.\n"
      ],
      "metadata": {
        "id": "UKETpgTtW3Cq"
      }
    },
    {
      "cell_type": "code",
      "source": [
        "import keyword\n",
        "print(keyword.kwlist)"
      ],
      "metadata": {
        "colab": {
          "base_uri": "https://localhost:8080/"
        },
        "id": "OeznERqPSrAd",
        "outputId": "d766b2da-dca0-4c96-afe0-1920fea5803a"
      },
      "execution_count": null,
      "outputs": [
        {
          "output_type": "stream",
          "name": "stdout",
          "text": [
            "['False', 'None', 'True', 'and', 'as', 'assert', 'async', 'await', 'break', 'class', 'continue', 'def', 'del', 'elif', 'else', 'except', 'finally', 'for', 'from', 'global', 'if', 'import', 'in', 'is', 'lambda', 'nonlocal', 'not', 'or', 'pass', 'raise', 'return', 'try', 'while', 'with', 'yield']\n"
          ]
        }
      ]
    },
    {
      "cell_type": "code",
      "source": [
        "for i in range(1,11):\n",
        "    if i == 5:\n",
        "        break\n",
        "    print(i)"
      ],
      "metadata": {
        "colab": {
          "base_uri": "https://localhost:8080/"
        },
        "id": "vm0Ne8UWc4Fq",
        "outputId": "25dd0a80-b5b4-4960-a354-2a4fece43d23"
      },
      "execution_count": null,
      "outputs": [
        {
          "output_type": "stream",
          "name": "stdout",
          "text": [
            "1\n",
            "2\n",
            "3\n",
            "4\n"
          ]
        }
      ]
    },
    {
      "cell_type": "code",
      "source": [
        "names = ['John','Monica','Steven','Robin']\n",
        "for i in names:\n",
        "    print('Hello '+i)"
      ],
      "metadata": {
        "colab": {
          "base_uri": "https://localhost:8080/"
        },
        "id": "hjqphSThdRRd",
        "outputId": "649f9927-0edf-4288-ad06-91724c3052c3"
      },
      "execution_count": null,
      "outputs": [
        {
          "output_type": "stream",
          "name": "stdout",
          "text": [
            "Hello John\n",
            "Hello Monica\n",
            "Hello Steven\n",
            "Hello Robin\n"
          ]
        }
      ]
    },
    {
      "cell_type": "code",
      "source": [
        "x = 100\n",
        "if x > 50:\n",
        "    print(\"x is greater than 5\")\n",
        "elif x == 51:\n",
        "    print(\"x is equal to 5\")\n",
        "else:\n",
        "    print(\"x is less than 5\")\n"
      ],
      "metadata": {
        "colab": {
          "base_uri": "https://localhost:8080/"
        },
        "id": "VeBs9WEBeimK",
        "outputId": "a3a87796-8a62-427a-fda7-41186dd28515"
      },
      "execution_count": null,
      "outputs": [
        {
          "output_type": "stream",
          "name": "stdout",
          "text": [
            "x is greater than 5\n"
          ]
        }
      ]
    },
    {
      "cell_type": "markdown",
      "source": [
        "**Q.3.Compare and contrast mutable and immutable objects with example**"
      ],
      "metadata": {
        "id": "iiqnt5_ce_Xr"
      }
    },
    {
      "cell_type": "markdown",
      "source": [
        "**Immutable** :-  \n",
        "*  The identity of an immutable object cannot change, but new objects with the same values will have different identities.\n",
        "\n",
        "*   Immutable objects are those whose state or contents cannot be changed once they are created.\n",
        "\n",
        " Immutable Types:\n",
        "1. Integers\n",
        "2. Floats\n",
        "3. Strings\n",
        "4. Tuples\n",
        "5. Frozensets\n",
        "\n"
      ],
      "metadata": {
        "id": "3kCW_lgmfS7j"
      }
    },
    {
      "cell_type": "code",
      "source": [
        "# Number\n",
        "my_num = 10\n",
        "# Attempting to alter the value of an integer results in the creation of a new object\n",
        "\n",
        "# String\n",
        "my_str = 'Hello, world!'\n",
        "# Strings are also immutable. Any modification results in a new string object\n",
        "\n",
        "# Tuple\n",
        "my_tuple = (1, 2, 3)\n",
        "# Tuples are immutable, but they can reference mutable objects"
      ],
      "metadata": {
        "id": "-KIVzD_7jmI6"
      },
      "execution_count": null,
      "outputs": []
    },
    {
      "cell_type": "code",
      "source": [
        "my_num"
      ],
      "metadata": {
        "colab": {
          "base_uri": "https://localhost:8080/"
        },
        "id": "FjrMHUw2jx0V",
        "outputId": "f2627ae4-77b1-4b9c-eb53-6dd7fa86957e"
      },
      "execution_count": null,
      "outputs": [
        {
          "output_type": "execute_result",
          "data": {
            "text/plain": [
              "10"
            ]
          },
          "metadata": {},
          "execution_count": 20
        }
      ]
    },
    {
      "cell_type": "markdown",
      "source": [
        "**Mutable**\n",
        "*  Mutable: Suitable for scenarios where you need to frequently update the data, such as maintaining a list of items in a shopping cart.\n",
        "*   Mutations can change the object's identity (id()), but equality may remain the same if the values are the same\n",
        "\n",
        "Mutable Types:\n",
        "1.  Lists : Lists are mutable, meaning you can change their content by adding, removing, or modifying\n",
        "2.  Dictionaries : Dictionaries are mutable, allowing changes to their key-value pairs.\n",
        "3.  Sets : Sets are used to store multiple items in a single variable."
      ],
      "metadata": {
        "id": "Jb24UQ3Zfs7R"
      }
    },
    {
      "cell_type": "code",
      "source": [
        "# List\n",
        "my_list = [1, 2, 3]\n",
        "my_list[0] = 'a'  # The list now becomes ['a', 2, 3]\n",
        "\n",
        "# Dictionary\n",
        "my_dict = {'name': 'John', 'age': 30}\n",
        "my_dict['age'] = 31  # The dictionary now becomes {'name': 'John', 'age': 31}\n",
        "\n",
        "# Set\n",
        "my_set = {1, 2, 3}\n",
        "my_set.add(4)  # The set now becomes {1, 2, 3, 4}"
      ],
      "metadata": {
        "id": "OgLt6gY4fE2o"
      },
      "execution_count": null,
      "outputs": []
    },
    {
      "cell_type": "code",
      "source": [
        "my_list"
      ],
      "metadata": {
        "colab": {
          "base_uri": "https://localhost:8080/"
        },
        "id": "Ev0zL1FjjGLJ",
        "outputId": "0342dc16-6c35-4666-b292-1e3187471ec8"
      },
      "execution_count": null,
      "outputs": [
        {
          "output_type": "execute_result",
          "data": {
            "text/plain": [
              "['a', 2, 3]"
            ]
          },
          "metadata": {},
          "execution_count": 15
        }
      ]
    },
    {
      "cell_type": "code",
      "source": [
        "my_dict"
      ],
      "metadata": {
        "colab": {
          "base_uri": "https://localhost:8080/"
        },
        "id": "oXfA3KerjLHR",
        "outputId": "63a38549-ef51-4d2e-f38c-ec1ecb42ebd8"
      },
      "execution_count": null,
      "outputs": [
        {
          "output_type": "execute_result",
          "data": {
            "text/plain": [
              "{'name': 'John', 'age': 31}"
            ]
          },
          "metadata": {},
          "execution_count": 16
        }
      ]
    },
    {
      "cell_type": "code",
      "source": [
        "my_set"
      ],
      "metadata": {
        "colab": {
          "base_uri": "https://localhost:8080/"
        },
        "id": "JuGV6o0IjSDF",
        "outputId": "da69ab11-f6f6-428c-b6e9-8e1345403936"
      },
      "execution_count": null,
      "outputs": [
        {
          "output_type": "execute_result",
          "data": {
            "text/plain": [
              "{1, 2, 3, 4}"
            ]
          },
          "metadata": {},
          "execution_count": 17
        }
      ]
    },
    {
      "cell_type": "markdown",
      "source": [
        "**Q4.Discuss the different types of operators and provide examples of how they are used**"
      ],
      "metadata": {
        "id": "3tHDKp0Tj5UX"
      }
    },
    {
      "cell_type": "code",
      "source": [
        "#Comparision Operator\n",
        "# Equal to (==):\n",
        "x = 10\n",
        "y = 20\n",
        "print( x == y)\n",
        "\n",
        "# NotEqual to (!=):\n",
        "print( x!= y)\n",
        "\n",
        "# Greater than (>):\n",
        "print( x > y)\n",
        "\n",
        "# Less than (<):\n",
        "print( x < y)\n",
        "\n",
        "# Greater than or equal to (>=):\n",
        "print( x >= y)\n",
        "\n",
        "# Less than equal to (<=) :\n",
        "print( x <= y)"
      ],
      "metadata": {
        "colab": {
          "base_uri": "https://localhost:8080/"
        },
        "id": "7EnSqCNhlW9a",
        "outputId": "406ccdb0-0e9d-4088-9e21-963927925206"
      },
      "execution_count": null,
      "outputs": [
        {
          "output_type": "stream",
          "name": "stdout",
          "text": [
            "False\n",
            "True\n",
            "False\n",
            "True\n",
            "False\n",
            "True\n"
          ]
        }
      ]
    },
    {
      "cell_type": "code",
      "source": [
        "#Assignment Operator:\n",
        "# Assignment (=):\n",
        "x = 10\n",
        "print(x)\n",
        "\n",
        "# Add and assign (+=):\n",
        "x = 20\n",
        "x += 10\n",
        "print(x)\n",
        "\n",
        "# Subtract and assign (-=):\n",
        "x =  20\n",
        "x -= 10\n",
        "print(x)\n",
        "\n",
        "# Multiply and assign (*=):\n",
        "\n",
        "x = 20\n",
        "x *=10\n",
        "print(x)\n",
        "\n",
        "# Divide and assign (/=):\n",
        "\n",
        "x = 20\n",
        "x /=10\n",
        "print(x)\n",
        "\n",
        "# Floor divide and assign (//=):\n",
        "\n",
        "x = 20\n",
        "x //= 10\n",
        "print(x)\n",
        "\n",
        "# Modulus and assign (%=):\n",
        "x = 20\n",
        "x %= 10\n",
        "print(x)\n",
        "\n",
        "# Exponent and assign (**=):\n",
        "\n",
        "x = 20\n",
        "x **= 10\n",
        "print(x)"
      ],
      "metadata": {
        "colab": {
          "base_uri": "https://localhost:8080/"
        },
        "id": "uOBqPnLNloh3",
        "outputId": "0f47dca0-bee9-4599-ae80-35ba9a576c26"
      },
      "execution_count": null,
      "outputs": [
        {
          "output_type": "stream",
          "name": "stdout",
          "text": [
            "10\n",
            "30\n",
            "10\n",
            "200\n",
            "2.0\n",
            "2\n",
            "0\n",
            "10240000000000\n"
          ]
        }
      ]
    },
    {
      "cell_type": "code",
      "source": [
        "#Logical Operators\n",
        "# Logical AND (and):\n",
        "x = True\n",
        "y = False\n",
        "print(x and y)\n",
        "\n",
        "# Logical OR (or):\n",
        "x = True\n",
        "y = False\n",
        "print(x or y)\n",
        "\n",
        "# Logical NOT (not):\n",
        "x = True\n",
        "print(not x )"
      ],
      "metadata": {
        "colab": {
          "base_uri": "https://localhost:8080/"
        },
        "id": "wbyE8R67lwJ-",
        "outputId": "b67977bb-3adf-42db-f5ae-ac7825748315"
      },
      "execution_count": null,
      "outputs": [
        {
          "output_type": "stream",
          "name": "stdout",
          "text": [
            "False\n",
            "True\n",
            "False\n"
          ]
        }
      ]
    },
    {
      "cell_type": "code",
      "source": [
        "#Bitwise Operators\n",
        "# Bitwise AND (&):\n",
        "x = 20\n",
        "y = 10\n",
        "print(x & y)\n",
        "bin(20)\n",
        "bin(10)\n",
        "\n",
        "# Bitwise OR (|):\n",
        "print( x | y)\n",
        "\n",
        "# Bitwise XOR (^):\n",
        "\n",
        "print(x ^ y)\n",
        "\n",
        "# Bitwise left shift (<<)\n",
        "x = 20\n",
        "print(x << 1)\n",
        "\n",
        "# Bitwise right shift (>>)\n",
        "\n",
        "x = 20\n",
        "print(x >> 1)\n"
      ],
      "metadata": {
        "colab": {
          "base_uri": "https://localhost:8080/"
        },
        "id": "7L9yTMzQl4cu",
        "outputId": "9459fd05-648a-47c8-ec61-914d9ecf7676"
      },
      "execution_count": null,
      "outputs": [
        {
          "output_type": "stream",
          "name": "stdout",
          "text": [
            "0\n",
            "30\n",
            "30\n",
            "40\n",
            "10\n"
          ]
        }
      ]
    },
    {
      "cell_type": "code",
      "source": [
        "#Membership Operators(in)\n",
        "x = 'ram'\n",
        "print(\"m\" in x)\n",
        "\n",
        "# Not in :\n",
        "\n",
        "y = \"shyam\"\n",
        "print( \"M\" not in y)\n"
      ],
      "metadata": {
        "colab": {
          "base_uri": "https://localhost:8080/"
        },
        "id": "3VgabwVql5kz",
        "outputId": "99b3fbf1-ebe0-41c2-e095-50508b6fbc61"
      },
      "execution_count": null,
      "outputs": [
        {
          "output_type": "stream",
          "name": "stdout",
          "text": [
            "True\n",
            "True\n"
          ]
        }
      ]
    },
    {
      "cell_type": "markdown",
      "source": [
        "**Q.5. Explain the concept of type casting in Python with example. **"
      ],
      "metadata": {
        "id": "cE-H7I5FkJO-"
      }
    },
    {
      "cell_type": "markdown",
      "source": [
        "Type casting in Python refers to the conversion of one data type into another. This is useful when we need to perform operations that require specific data types, or when we want to ensure consistency in data types. Type casting can be done in two ways:\n",
        "1. implicit:Python converts the datatype into another datatype automatically. Users don’t have to involve in this process.\n",
        "2. explicit:Python needs user involvement to convert the variable data type into the required data type.\n"
      ],
      "metadata": {
        "id": "wdvbfJrqp7Cx"
      }
    },
    {
      "cell_type": "code",
      "source": [
        "#explicit\n",
        "# int variable\n",
        "a = 5.9\n",
        "# typecast to int\n",
        "n = int(a)\n",
        "print(n)\n",
        "print(type(n))"
      ],
      "metadata": {
        "colab": {
          "base_uri": "https://localhost:8080/"
        },
        "id": "eQOJtijXrMf5",
        "outputId": "bd41aaba-1b8e-4db0-c896-fdc610727d71"
      },
      "execution_count": null,
      "outputs": [
        {
          "output_type": "stream",
          "name": "stdout",
          "text": [
            "5\n",
            "<class 'int'>\n"
          ]
        }
      ]
    },
    {
      "cell_type": "code",
      "source": [
        "#implicit\n",
        "a=10\n",
        "b=7.0\n",
        "d = a * b\n",
        "print(d)\n",
        "print(type(d))"
      ],
      "metadata": {
        "colab": {
          "base_uri": "https://localhost:8080/"
        },
        "id": "hZWzpQy6rlKe",
        "outputId": "a774c6e6-cf6b-41e7-9601-464f97b783ae"
      },
      "execution_count": null,
      "outputs": [
        {
          "output_type": "stream",
          "name": "stdout",
          "text": [
            "70.0\n",
            "<class 'float'>\n"
          ]
        }
      ]
    },
    {
      "cell_type": "markdown",
      "source": [
        "**Q.6.How do conditional statements work in Python? Illustrate with examples**"
      ],
      "metadata": {
        "id": "oZQzq4tksig7"
      }
    },
    {
      "cell_type": "markdown",
      "source": [
        "Conditional statements in Python are fundamental building blocks for controlling the flow of our program's execution based on certain conditions. They allow we to make decisions and execute different code blocks depending on whether a condition is True or False."
      ],
      "metadata": {
        "id": "QTU0JE92ssbV"
      }
    },
    {
      "cell_type": "code",
      "source": [
        "#if else statement\n",
        "age = 19\n",
        "if age >=18:\n",
        "    print(\"you are eligible to vote\")\n",
        "else:\n",
        "    print(\"you are not eligible to vote\")"
      ],
      "metadata": {
        "colab": {
          "base_uri": "https://localhost:8080/"
        },
        "id": "E6MAbf3Ctibr",
        "outputId": "5e88e682-9e3b-497f-cb78-b518ba7066e3"
      },
      "execution_count": null,
      "outputs": [
        {
          "output_type": "stream",
          "name": "stdout",
          "text": [
            "you are eligible to vote\n"
          ]
        }
      ]
    },
    {
      "cell_type": "code",
      "source": [
        "#if elif else statement\n",
        "day = \"Tuesday\"\n",
        "if day == \"Saturday\":\n",
        "  print(\"Enjoy your weekend!\")\n",
        "elif day == \"Sunday\":\n",
        "  print(\"Relax on your day off!\")\n",
        "else:\n",
        "  print(\"Back to work!\")\n"
      ],
      "metadata": {
        "colab": {
          "base_uri": "https://localhost:8080/"
        },
        "id": "eCpUBJI_tyQu",
        "outputId": "7fb9930e-23bc-4ab4-e7aa-23a2acc27b06"
      },
      "execution_count": null,
      "outputs": [
        {
          "output_type": "stream",
          "name": "stdout",
          "text": [
            "Back to work!\n"
          ]
        }
      ]
    },
    {
      "cell_type": "code",
      "source": [
        "# nested if statement\n",
        "score = 85\n",
        "has_bonus = True\n",
        "if score >= 90:\n",
        "  print(\"Excellent!\")\n",
        "elif score >= 80:\n",
        "  if has_bonus:\n",
        "    print(\"Great job! You get a bonus point.\")\n",
        "  else:\n",
        "    print(\"Good work!\")\n",
        "else:\n",
        "  print(\"Keep studying!\")"
      ],
      "metadata": {
        "colab": {
          "base_uri": "https://localhost:8080/"
        },
        "id": "BkqWE3Touhn0",
        "outputId": "99ed72f3-6000-4560-d8ad-71d82065ba0a"
      },
      "execution_count": null,
      "outputs": [
        {
          "output_type": "stream",
          "name": "stdout",
          "text": [
            "Great job! You get a bonus point.\n"
          ]
        }
      ]
    },
    {
      "cell_type": "markdown",
      "source": [
        "**Q.7.Describe the different types of loops in Python and their use cases with examples**"
      ],
      "metadata": {
        "id": "OTNHtV1mqqaY"
      }
    },
    {
      "cell_type": "markdown",
      "source": [
        " Python, there are mainly two types of loops: for loop and while loop.\n",
        "\n",
        "For Loop: A for loop is used for iterating over a sequence (such as a list, tuple, string, or range) or any iterable object.\n",
        "\n",
        "1. When you know the number of iterations in advance or when you want to iterate over a predefined sequence.\n",
        "2. When you want to perform a certain operation on each element of a sequence."
      ],
      "metadata": {
        "id": "yedYz_oBvYb9"
      }
    },
    {
      "cell_type": "code",
      "source": [
        "#for loop\n",
        "for x in range(6):\n",
        "  print(x)"
      ],
      "metadata": {
        "colab": {
          "base_uri": "https://localhost:8080/"
        },
        "id": "yPvY8uKavXmc",
        "outputId": "826d88e9-0983-4911-8e43-063658eba325"
      },
      "execution_count": null,
      "outputs": [
        {
          "output_type": "stream",
          "name": "stdout",
          "text": [
            "0\n",
            "1\n",
            "2\n",
            "3\n",
            "4\n",
            "5\n"
          ]
        }
      ]
    },
    {
      "cell_type": "markdown",
      "source": [
        "WHile Loop: A while loop is used to repeatedly execute a block of code as long as a specified condition is true.\n",
        "\n",
        "1.  When the number of iterations is not known in advance or when you want to iterate until a certain condition is met.\n",
        "2.   When you want to repeatedly execute a block of code based on a condition.\n",
        "\n",
        "\n",
        "\n",
        "\n"
      ],
      "metadata": {
        "id": "ABeuOFnFv3sg"
      }
    },
    {
      "cell_type": "code",
      "source": [
        "#while loop\n",
        "i = 1\n",
        "while i <= 5:\n",
        "    print(i)\n",
        "    i += 1"
      ],
      "metadata": {
        "colab": {
          "base_uri": "https://localhost:8080/"
        },
        "id": "Jf1Vi554v2Ab",
        "outputId": "42c8380f-08e9-49be-947e-66c4d1c605c5"
      },
      "execution_count": null,
      "outputs": [
        {
          "output_type": "stream",
          "name": "stdout",
          "text": [
            "1\n",
            "2\n",
            "3\n",
            "4\n",
            "5\n"
          ]
        }
      ]
    },
    {
      "cell_type": "code",
      "source": [],
      "metadata": {
        "id": "rK0klqJdw0nX"
      },
      "execution_count": null,
      "outputs": []
    }
  ]
}